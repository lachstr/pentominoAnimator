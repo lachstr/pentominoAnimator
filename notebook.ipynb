{
 "cells": [
  {
   "cell_type": "markdown",
   "metadata": {},
   "source": [
    "# Read data from output of the pentomino solver"
   ]
  },
  {
   "cell_type": "code",
   "execution_count": null,
   "metadata": {},
   "outputs": [],
   "source": [
    "import os\n",
    "\n",
    "os.system()"
   ]
  },
  {
   "cell_type": "code",
   "execution_count": 10,
   "metadata": {},
   "outputs": [],
   "source": [
    "filename = \"rect6x10_solving\"\n",
    "\n",
    "# Open the file as f.\n",
    "# The function readlines() reads the file.\n",
    "with open(filename + '.txt') as f:\n",
    "    content = f.read().splitlines()\n",
    "\n",
    "boards = []\n",
    "board = []\n",
    "\n",
    "for line in content[11:-2]:\n",
    "    if not line:\n",
    "        if len(board) > 0:\n",
    "            boards.append(board)\n",
    "        board = []\n",
    "    if line:\n",
    "        row = []\n",
    "        for char in line:\n",
    "            row.append(ord(char))\n",
    "        board.append(row)\n",
    "        \n",
    "boards.append(board)"
   ]
  },
  {
   "cell_type": "code",
   "execution_count": 2,
   "metadata": {},
   "outputs": [
    {
     "data": {
      "text/plain": [
       "[[[46, 46, 46, 46, 46, 46],\n",
       "  [46, 46, 46, 46, 46, 46],\n",
       "  [46, 46, 46, 46, 46, 46],\n",
       "  [46, 46, 46, 46, 46, 46],\n",
       "  [46, 46, 46, 46, 46, 46],\n",
       "  [46, 46, 46, 46, 46, 46],\n",
       "  [46, 46, 46, 46, 46, 46],\n",
       "  [46, 46, 46, 46, 46, 46],\n",
       "  [46, 46, 46, 46, 46, 46],\n",
       "  [46, 46, 46, 46, 46, 46]],\n",
       " [[84, 84, 84, 46, 46, 46],\n",
       "  [46, 84, 46, 46, 46, 46],\n",
       "  [46, 84, 46, 46, 46, 46],\n",
       "  [46, 46, 46, 46, 46, 46],\n",
       "  [46, 46, 46, 46, 46, 46],\n",
       "  [46, 46, 46, 46, 46, 46],\n",
       "  [46, 46, 46, 46, 46, 46],\n",
       "  [46, 46, 46, 46, 46, 46],\n",
       "  [46, 46, 46, 46, 46, 46],\n",
       "  [46, 46, 46, 46, 46, 46]],\n",
       " [[84, 84, 84, 79, 46, 46],\n",
       "  [46, 84, 46, 79, 46, 46],\n",
       "  [46, 84, 46, 79, 46, 46],\n",
       "  [46, 46, 46, 79, 46, 46],\n",
       "  [46, 46, 46, 79, 46, 46],\n",
       "  [46, 46, 46, 46, 46, 46],\n",
       "  [46, 46, 46, 46, 46, 46],\n",
       "  [46, 46, 46, 46, 46, 46],\n",
       "  [46, 46, 46, 46, 46, 46],\n",
       "  [46, 46, 46, 46, 46, 46]]]"
      ]
     },
     "execution_count": 2,
     "metadata": {},
     "output_type": "execute_result"
    }
   ],
   "source": [
    "boards[:3]"
   ]
  },
  {
   "cell_type": "code",
   "execution_count": 3,
   "metadata": {},
   "outputs": [
    {
     "data": {
      "text/plain": [
       "1228"
      ]
     },
     "execution_count": 3,
     "metadata": {},
     "output_type": "execute_result"
    }
   ],
   "source": [
    "len(boards)"
   ]
  },
  {
   "cell_type": "markdown",
   "metadata": {},
   "source": [
    "# Now map the character matrix to a pretty plot"
   ]
  },
  {
   "cell_type": "code",
   "execution_count": 4,
   "metadata": {},
   "outputs": [
    {
     "data": {
      "text/plain": [
       "<Figure size 1280x960 with 0 Axes>"
      ]
     },
     "metadata": {},
     "output_type": "display_data"
    },
    {
     "data": {
      "image/png": "[encoded data removed]",
      "text/plain": [
       "<Figure size 1350x900 with 1 Axes>"
      ]
     },
     "metadata": {},
     "output_type": "display_data"
    }
   ],
   "source": [
    "import numpy as np\n",
    "import matplotlib.pyplot as plt\n",
    "import matplotlib.cm as cm\n",
    "\n",
    "\n",
    "from matplotlib.pyplot import figure\n",
    "\n",
    "figure(figsize=(8, 6), dpi=160)\n",
    "\n",
    "from matplotlib import colors\n",
    "\n",
    "#colors are handpicked from the pentomino wiki page\n",
    "cmap = colors.ListedColormap(['#ffffff',\n",
    "                              '#eeaaaa',\n",
    "                                 '#bbdd99',\n",
    "                                 '#cccc88',\n",
    "                                 '#ddbb99',\n",
    "                                 '#aaeeaa',\n",
    "                                 '#99ddbb',\n",
    "                                 '#88cccc',\n",
    "                                 '#99bbdd',\n",
    "                                 '#aaaaee',\n",
    "                                 '#bb99dd',\n",
    "                                 '#cc88cc',\n",
    "                                 '#dd99bb'])\n",
    "\n",
    "bounds=[46,79,80,81,82,83,84,85,86,87,88,89,90,91]\n",
    "norm = colors.BoundaryNorm(bounds, cmap.N)\n",
    "\n",
    "figure(figsize=(3,2), dpi=450)\n",
    "\n",
    "plt.pcolormesh(board, cmap=cmap, norm=norm, edgecolors='#1d1d1d', linewidth=.5)\n",
    "ax = plt.gca()\n",
    "ax.set_aspect('equal')\n",
    "ax.set_xticks([])\n",
    "ax.set_yticks([])\n",
    "\n",
    "\n",
    "plt.show()"
   ]
  },
  {
   "cell_type": "markdown",
   "metadata": {},
   "source": [
    "# Generate pretty plots for all the boards"
   ]
  },
  {
   "cell_type": "code",
   "execution_count": 5,
   "metadata": {},
   "outputs": [
    {
     "data": {
      "text/plain": [
       "<Figure size 1350x900 with 0 Axes>"
      ]
     },
     "metadata": {},
     "output_type": "display_data"
    }
   ],
   "source": [
    "\n",
    "i = 1\n",
    "\n",
    "figure(figsize=(3,2), dpi=450)\n",
    "\n",
    "for board in boards:\n",
    "    plt.pcolormesh(board, cmap=cmap, norm=norm, edgecolors='#1d1d1d', linewidth=.5)\n",
    "    ax = plt.gca()\n",
    "    ax.set_aspect('equal')\n",
    "    ax.set_xticks([])\n",
    "    ax.set_yticks([])\n",
    "\n",
    "    plt.savefig(f'pentominoani{i}.png')\n",
    "    plt.clf()\n",
    "    i += 1\n",
    "    "
   ]
  },
  {
   "cell_type": "markdown",
   "metadata": {},
   "source": [
    "# Generate an animation from the saved images"
   ]
  },
  {
   "cell_type": "code",
   "execution_count": 6,
   "metadata": {},
   "outputs": [],
   "source": [
    "import imageio\n",
    "\n",
    "with imageio.get_writer('ani.gif', mode='I', fps=40) as writer:\n",
    "    for j in range(1, i):\n",
    "        writer.append_data(imageio.imread(f'pentominoani{j}.png'))\n",
    "        "
   ]
  },
  {
   "cell_type": "code",
   "execution_count": 7,
   "metadata": {},
   "outputs": [
    {
     "name": "stderr",
     "output_type": "stream",
     "text": [
      "gifsicle: warning: huge GIF, conserving memory (processing may take a while)\n",
      "gifsicle: warning: trivial adaptive palette (only 15 colors in source)\n"
     ]
    }
   ],
   "source": [
    "from pygifsicle import optimize\n",
    "\n",
    "optimize('ani.gif')"
   ]
  },
  {
   "cell_type": "code",
   "execution_count": 8,
   "metadata": {},
   "outputs": [
    {
     "name": "stderr",
     "output_type": "stream",
     "text": [
      "ffmpeg version 4.2.4-1ubuntu0.1 Copyright (c) 2000-2020 the FFmpeg developers\n",
      "  built with gcc 9 (Ubuntu 9.3.0-10ubuntu2)\n",
      "  configuration: --prefix=/usr --extra-version=1ubuntu0.1 --toolchain=hardened --libdir=/usr/lib/x86_64-linux-gnu --incdir=/usr/include/x86_64-linux-gnu --arch=amd64 --enable-gpl --disable-stripping --enable-avresample --disable-filter=resample --enable-avisynth --enable-gnutls --enable-ladspa --enable-libaom --enable-libass --enable-libbluray --enable-libbs2b --enable-libcaca --enable-libcdio --enable-libcodec2 --enable-libflite --enable-libfontconfig --enable-libfreetype --enable-libfribidi --enable-libgme --enable-libgsm --enable-libjack --enable-libmp3lame --enable-libmysofa --enable-libopenjpeg --enable-libopenmpt --enable-libopus --enable-libpulse --enable-librsvg --enable-librubberband --enable-libshine --enable-libsnappy --enable-libsoxr --enable-libspeex --enable-libssh --enable-libtheora --enable-libtwolame --enable-libvidstab --enable-libvorbis --enable-libvpx --enable-libwavpack --enable-libwebp --enable-libx265 --enable-libxml2 --enable-libxvid --enable-libzmq --enable-libzvbi --enable-lv2 --enable-omx --enable-openal --enable-opencl --enable-opengl --enable-sdl2 --enable-libdc1394 --enable-libdrm --enable-libiec61883 --enable-nvenc --enable-chromaprint --enable-frei0r --enable-libx264 --enable-shared\n",
      "  libavutil      56. 31.100 / 56. 31.100\n",
      "  libavcodec     58. 54.100 / 58. 54.100\n",
      "  libavformat    58. 29.100 / 58. 29.100\n",
      "  libavdevice    58.  8.100 / 58.  8.100\n",
      "  libavfilter     7. 57.100 /  7. 57.100\n",
      "  libavresample   4.  0.  0 /  4.  0.  0\n",
      "  libswscale      5.  5.100 /  5.  5.100\n",
      "  libswresample   3.  5.100 /  3.  5.100\n",
      "  libpostproc    55.  5.100 / 55.  5.100\n",
      "Input #0, gif, from 'ani.gif':\n",
      "  Duration: 00:00:36.84, start: 0.000000, bitrate: 238 kb/s\n",
      "    Stream #0:0: Video: gif, bgra, 1350x900, 33.33 fps, 33.33 tbr, 100 tbn, 100 tbc\n",
      "Stream mapping:\n",
      "  Stream #0:0 -> #0:0 (gif (native) -> h264 (libx264))\n",
      "Press [q] to stop, [?] for help\n",
      "[libx264 @ 0x7fffd19a5540] using cpu capabilities: MMX2 SSE2Fast SSSE3 SSE4.2 AVX FMA3 BMI2 AVX2\n",
      "[libx264 @ 0x7fffd19a5540] profile High, level 3.2\n",
      "[libx264 @ 0x7fffd19a5540] 264 - core 155 r2917 0a84d98 - H.264/MPEG-4 AVC codec - Copyleft 2003-2018 - http://www.videolan.org/x264.html - options: cabac=1 ref=3 deblock=1:0:0 analyse=0x3:0x113 me=hex subme=7 psy=1 psy_rd=1.00:0.00 mixed_ref=1 me_range=16 chroma_me=1 trellis=1 8x8dct=1 cqm=0 deadzone=21,11 fast_pskip=1 chroma_qp_offset=-2 threads=18 lookahead_threads=3 sliced_threads=0 nr=0 decimate=1 interlaced=0 bluray_compat=0 constrained_intra=0 bframes=3 b_pyramid=2 b_adapt=1 b_bias=0 direct=1 weightb=1 open_gop=0 weightp=2 keyint=250 keyint_min=25 scenecut=40 intra_refresh=0 rc_lookahead=40 rc=crf mbtree=1 crf=23.0 qcomp=0.60 qpmin=0 qpmax=69 qpstep=4 ip_ratio=1.40 aq=1:1.00\n",
      "Output #0, mp4, to 'rect6x10_solving.mp4':\n",
      "  Metadata:\n",
      "    encoder         : Lavf58.29.100\n",
      "    Stream #0:0: Video: h264 (libx264) (avc1 / 0x31637661), yuv420p, 1350x900, q=-1--1, 33.33 fps, 12800 tbn, 33.33 tbc\n",
      "    Metadata:\n",
      "      encoder         : Lavc58.54.100 libx264\n",
      "    Side data:\n",
      "      cpb: bitrate max/min/avg: 0/0/0 buffer size: 0 vbv_delay: -1\n",
      "[mp4 @ 0x7fffd19a4640] Starting second pass: moving the moov atom to the beginning of the file   \n",
      "frame= 1228 fps=224 q=-1.0 Lsize=     500kB time=00:00:36.75 bitrate= 111.5kbits/s speed= 6.7x    \n",
      "video:487kB audio:0kB subtitle:0kB other streams:0kB global headers:0kB muxing overhead: 2.644199%\n",
      "[libx264 @ 0x7fffd19a5540] frame I:5     Avg QP:15.12  size:  5360\n",
      "[libx264 @ 0x7fffd19a5540] frame P:768   Avg QP:21.75  size:   544\n",
      "[libx264 @ 0x7fffd19a5540] frame B:455   Avg QP:20.26  size:   117\n",
      "[libx264 @ 0x7fffd19a5540] consecutive B-frames: 37.6% 37.1%  5.4% 19.9%\n",
      "[libx264 @ 0x7fffd19a5540] mb I  I16..4: 49.2% 47.6%  3.1%\n",
      "[libx264 @ 0x7fffd19a5540] mb P  I16..4:  1.8%  0.4%  0.1%  P16..4:  0.8%  0.1%  0.0%  0.0%  0.0%    skip:96.9%\n",
      "[libx264 @ 0x7fffd19a5540] mb B  I16..4:  0.1%  0.0%  0.0%  B16..8:  1.1%  0.0%  0.0%  direct: 0.0%  skip:98.7%  L0:31.8% L1:68.1% BI: 0.1%\n",
      "[libx264 @ 0x7fffd19a5540] 8x8 transform intra:22.6% inter:36.9%\n",
      "[libx264 @ 0x7fffd19a5540] coded y,uvDC,uvAC intra: 2.2% 9.8% 6.0% inter: 0.1% 0.1% 0.1%\n",
      "[libx264 @ 0x7fffd19a5540] i16 v,h,dc,p: 66% 33%  1%  0%\n",
      "[libx264 @ 0x7fffd19a5540] i8 v,h,dc,ddl,ddr,vr,hd,vl,hu: 14%  6% 80%  0%  0%  0%  0%  0%  0%\n",
      "[libx264 @ 0x7fffd19a5540] i4 v,h,dc,ddl,ddr,vr,hd,vl,hu: 39% 39% 17%  0%  0%  1%  2%  1%  1%\n",
      "[libx264 @ 0x7fffd19a5540] i8c dc,h,v,p: 55% 22% 23%  0%\n",
      "[libx264 @ 0x7fffd19a5540] Weighted P-Frames: Y:0.0% UV:0.0%\n",
      "[libx264 @ 0x7fffd19a5540] ref P L0: 19.2%  3.2% 59.9% 17.7%\n",
      "[libx264 @ 0x7fffd19a5540] ref B L0: 80.2% 18.5%  1.2%\n",
      "[libx264 @ 0x7fffd19a5540] ref B L1: 99.4%  0.6%\n",
      "[libx264 @ 0x7fffd19a5540] kb/s:108.17\n"
     ]
    },
    {
     "data": {
      "text/plain": [
       "0"
      ]
     },
     "execution_count": 8,
     "metadata": {},
     "output_type": "execute_result"
    }
   ],
   "source": [
    "os.system(f'ffmpeg -i ani.gif -movflags faststart -pix_fmt yuv420p -vf \"scale=trunc(iw/2)*2:trunc(ih/2)*2\" {filename}.mp4')"
   ]
  }
 ],
 "metadata": {
  "kernelspec": {
   "display_name": "Python 3 (ipykernel)",
   "language": "python",
   "name": "python3"
  },
  "language_info": {
   "codemirror_mode": {
    "name": "ipython",
    "version": 3
   },
   "file_extension": ".py",
   "mimetype": "text/x-python",
   "name": "python",
   "nbconvert_exporter": "python",
   "pygments_lexer": "ipython3",
   "version": "3.8.10"
  }
 },
 "nbformat": 4,
 "nbformat_minor": 4
}
